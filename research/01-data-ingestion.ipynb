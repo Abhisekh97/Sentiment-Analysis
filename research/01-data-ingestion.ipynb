{
 "cells": [
  {
   "cell_type": "code",
   "execution_count": 89,
   "metadata": {},
   "outputs": [],
   "source": [
    "from dataclasses import dataclass\n",
    "from pathlib import Path\n",
    "\n",
    "@dataclass(frozen=True)\n",
    "class DataIngestionConfig:\n",
    "    root_dir : Path\n",
    "    source_URL: str\n",
    "    local_data_file: Path\n",
    "    unzip_dir: Path\n",
    "\n",
    "    "
   ]
  },
  {
   "cell_type": "code",
   "execution_count": null,
   "metadata": {},
   "outputs": [],
   "source": []
  },
  {
   "cell_type": "code",
   "execution_count": 90,
   "metadata": {},
   "outputs": [],
   "source": [
    "from sentiment_analysis.constants import *\n",
    "from sentiment_analysis.utils.common import read_yaml, create_directories\n",
    "\n"
   ]
  },
  {
   "cell_type": "code",
   "execution_count": 91,
   "metadata": {},
   "outputs": [],
   "source": [
    "class ConfigurationManager:\n",
    "    def __init__(self,\n",
    "                 config_filepath=CONFIG_FILE_PATH,\n",
    "                 params_filepath=PARAMS_FILE_PATH) -> None:\n",
    "        self.config = read_yaml(config_filepath)\n",
    "        # print(self.config)\n",
    "        self.params = read_yaml(params_filepath)\n",
    "        create_directories([self.config.artifacts_root])\n",
    "    \n",
    "    def get_data_ingestion_config(self) -> DataIngestionConfig:\n",
    "        create_directories([self.config.data_ingestion.root_dir])\n",
    "        data_ingestion_config = DataIngestionConfig(\n",
    "            root_dir= self.config.data_ingestion.root_dir,\n",
    "            source_URL=self.config.data_ingestion.source_URL,\n",
    "            local_data_file=self.config.data_ingestion.local_data_file,\n",
    "            unzip_dir=self.config.data_ingestion.unzip_dir\n",
    "        )\n",
    "        return data_ingestion_config\n"
   ]
  },
  {
   "cell_type": "code",
   "execution_count": 95,
   "metadata": {},
   "outputs": [],
   "source": [
    "import os\n",
    "import kaggle\n",
    "#make sure to copy kaggle.json file ~/.kaggle/ folder\n",
    "kaggle.api.authenticate()\n",
    "from pathlib import Path\n",
    "import opendatasets as od\n",
    "from sentiment_analysis.utils.logger import Logger\n",
    "logger = Logger.__call__().get_logger()\n",
    "class DataIngestion:\n",
    "    def __init__(self, config: DataIngestionConfig) -> None:\n",
    "        self.config =config\n",
    "        print(self.config)\n",
    "    \n",
    "    def download_file(self) -> str:\n",
    "        try:\n",
    "            dataset_url = self.config.source_URL\n",
    "            os.makedirs(Path(self.config.root_dir), exist_ok=True)\n",
    "            logger.info(f\"Downloading dataset {dataset_url}  into {self.config.root_dir}\")\n",
    "            kaggle.api.dataset_download_files(dataset_url, path=Path(self.config.root_dir), unzip=True)\n",
    "            logger.info(\"Dataset downloaded successfully!\")\n",
    "\n",
    "        except Exception as e:\n",
    "            logger.info(self.config)\n",
    "            logger.error(\"Exception occurred while download dataset\" + str(e))"
   ]
  },
  {
   "cell_type": "code",
   "execution_count": 96,
   "metadata": {},
   "outputs": [
    {
     "name": "stderr",
     "output_type": "stream",
     "text": [
      "2024-08-06 17:59:56,322: Sentiment-Analysis: INFO: common.py: read_yaml:- yaml file: config/config.yaml loaded successfully\n",
      "2024-08-06 17:59:56,324: Sentiment-Analysis: INFO: common.py: read_yaml:- yaml file: params.yaml loaded successfully\n",
      "2024-08-06 17:59:56,324: Sentiment-Analysis: INFO: common.py: create_directories:- created directory at: artifacts\n",
      "2024-08-06 17:59:56,325: Sentiment-Analysis: INFO: common.py: create_directories:- created directory at: artifacts/data_ingestion\n",
      "2024-08-06 17:59:56,326: Sentiment-Analysis: INFO: 3095889022.py: download_file:- Downloading dataset snap/amazon-fine-food-reviews  into artifacts/data_ingestion\n"
     ]
    },
    {
     "name": "stdout",
     "output_type": "stream",
     "text": [
      "DataIngestionConfig(root_dir='artifacts/data_ingestion', source_URL='snap/amazon-fine-food-reviews', local_data_file='artifacts/data_ingestion/amazon-fine-food-reviews/', unzip_dir='artifacts/data_ingestion')\n",
      "DataIngestionConfig(root_dir='artifacts/data_ingestion', source_URL='snap/amazon-fine-food-reviews', local_data_file='artifacts/data_ingestion/amazon-fine-food-reviews/', unzip_dir='artifacts/data_ingestion')\n",
      "Dataset URL: https://www.kaggle.com/datasets/snap/amazon-fine-food-reviews\n"
     ]
    },
    {
     "name": "stderr",
     "output_type": "stream",
     "text": [
      "2024-08-06 18:00:21,681: Sentiment-Analysis: INFO: 3095889022.py: download_file:- Dataset downloaded successfully!\n"
     ]
    }
   ],
   "source": [
    "config = ConfigurationManager()\n",
    "data = config.get_data_ingestion_config()\n",
    "obj = DataIngestion(config=data)\n",
    "obj.download_file()"
   ]
  },
  {
   "cell_type": "code",
   "execution_count": null,
   "metadata": {},
   "outputs": [],
   "source": []
  }
 ],
 "metadata": {
  "kernelspec": {
   "display_name": "mlflow-env",
   "language": "python",
   "name": "python3"
  },
  "language_info": {
   "codemirror_mode": {
    "name": "ipython",
    "version": 3
   },
   "file_extension": ".py",
   "mimetype": "text/x-python",
   "name": "python",
   "nbconvert_exporter": "python",
   "pygments_lexer": "ipython3",
   "version": "3.11.9"
  }
 },
 "nbformat": 4,
 "nbformat_minor": 2
}
